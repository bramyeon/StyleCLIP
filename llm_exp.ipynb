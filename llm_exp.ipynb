{
 "cells": [
  {
   "cell_type": "markdown",
   "metadata": {},
   "source": [
    "# Google"
   ]
  },
  {
   "cell_type": "code",
   "execution_count": 9,
   "metadata": {},
   "outputs": [
    {
     "name": "stderr",
     "output_type": "stream",
     "text": [
      "You are using the default legacy behaviour of the <class 'transformers.models.t5.tokenization_t5.T5Tokenizer'>. This is expected, and simply means that the `legacy` (previous) behavior will be used so nothing changes for you. If you want to use the new behaviour, set `legacy=False`. This should only be set if you understand what it means, and thouroughly read the reason why this was added as explained in https://github.com/huggingface/transformers/pull/24565\n",
      "Special tokens have been added in the vocabulary, make sure the associated word embeddings are fine-tuned or trained.\n"
     ]
    }
   ],
   "source": [
    "from transformers import T5Tokenizer, T5ForConditionalGeneration\n",
    "# install with pip: transformers, sentencepiece \n",
    "\n",
    "tokenizer = T5Tokenizer.from_pretrained(\"google/flan-t5-small\")\n",
    "model = T5ForConditionalGeneration.from_pretrained(\"google/flan-t5-small\")"
   ]
  },
  {
   "cell_type": "code",
   "execution_count": 14,
   "metadata": {},
   "outputs": [
    {
     "name": "stdout",
     "output_type": "stream",
     "text": [
      "<pad> 5 times</s>\n"
     ]
    }
   ],
   "source": [
    "input_text = \"repeat the sentence 5 times: How old are you?\"\n",
    "input_ids = tokenizer(input_text, return_tensors=\"pt\").input_ids\n",
    "\n",
    "outputs = model.generate(input_ids, max_length=100)\n",
    "print(tokenizer.decode(outputs[0]))"
   ]
  },
  {
   "cell_type": "code",
   "execution_count": 15,
   "metadata": {},
   "outputs": [
    {
     "data": {
      "text/plain": [
       "'<pad> 5 times</s>'"
      ]
     },
     "execution_count": 15,
     "metadata": {},
     "output_type": "execute_result"
    }
   ],
   "source": [
    "tokenizer.decode(outputs[0])"
   ]
  },
  {
   "cell_type": "markdown",
   "metadata": {},
   "source": [
    "# LLaMa 2, 7B"
   ]
  },
  {
   "cell_type": "code",
   "execution_count": 6,
   "metadata": {},
   "outputs": [],
   "source": [
    "import subprocess, time"
   ]
  },
  {
   "cell_type": "code",
   "execution_count": 7,
   "metadata": {},
   "outputs": [],
   "source": [
    "def run(ckpt, task):\n",
    "    \"\"\"\n",
    "    Runs a terminal command and prints the output followed by error message.\n",
    "    Args:\n",
    "        ckpt (str): Path to LLaMa model checkpoint\n",
    "        task (str): Path to Python task\n",
    "    Returns:\n",
    "        float: Command execution time\n",
    "    \"\"\"\n",
    "    start = time.time()\n",
    "    cmd = f\"torchrun --nproc_per_node 1 {task} --ckpt_dir {ckpt}/ --tokenizer_path tokenizer.model --max_seq_len 512 --max_batch_size 6\"\n",
    "    result = subprocess.run(cmd, shell=True, check=True, stdout=subprocess.PIPE, stderr=subprocess.PIPE, text=True)\n",
    "    end = time.time()\n",
    "    exec = end-start\n",
    "    print(f\"Output:\\n{result.stdout}\")\n",
    "    print(f\"Error:\\n{result.stderr}\")\n",
    "    print(f\"Execution time: {exec} seconds\")\n",
    "    return exec "
   ]
  },
  {
   "cell_type": "code",
   "execution_count": 8,
   "metadata": {},
   "outputs": [
    {
     "ename": "CalledProcessError",
     "evalue": "Command 'torchrun --nproc_per_node 1 ../llama/example_text_completion.py --ckpt_dir ../llama/llama-2-7b/ --tokenizer_path tokenizer.model --max_seq_len 512 --max_batch_size 6' returned non-zero exit status 1.",
     "output_type": "error",
     "traceback": [
      "\u001b[0;31m---------------------------------------------------------------------------\u001b[0m",
      "\u001b[0;31mCalledProcessError\u001b[0m                        Traceback (most recent call last)",
      "\u001b[1;32m/Users/bramyeon/Desktop/StyleCLIP/llm_exp.ipynb Cell 8\u001b[0m line \u001b[0;36m1\n\u001b[0;32m----> <a href='vscode-notebook-cell:/Users/bramyeon/Desktop/StyleCLIP/llm_exp.ipynb#W4sZmlsZQ%3D%3D?line=0'>1</a>\u001b[0m run(\u001b[39m'\u001b[39;49m\u001b[39m../llama/llama-2-7b\u001b[39;49m\u001b[39m'\u001b[39;49m, \u001b[39m'\u001b[39;49m\u001b[39m../llama/example_text_completion.py\u001b[39;49m\u001b[39m'\u001b[39;49m)\n",
      "\u001b[1;32m/Users/bramyeon/Desktop/StyleCLIP/llm_exp.ipynb Cell 8\u001b[0m line \u001b[0;36m1\n\u001b[1;32m     <a href='vscode-notebook-cell:/Users/bramyeon/Desktop/StyleCLIP/llm_exp.ipynb#W4sZmlsZQ%3D%3D?line=9'>10</a>\u001b[0m start \u001b[39m=\u001b[39m time\u001b[39m.\u001b[39mtime()\n\u001b[1;32m     <a href='vscode-notebook-cell:/Users/bramyeon/Desktop/StyleCLIP/llm_exp.ipynb#W4sZmlsZQ%3D%3D?line=10'>11</a>\u001b[0m cmd \u001b[39m=\u001b[39m \u001b[39mf\u001b[39m\u001b[39m\"\u001b[39m\u001b[39mtorchrun --nproc_per_node 1 \u001b[39m\u001b[39m{\u001b[39;00mtask\u001b[39m}\u001b[39;00m\u001b[39m --ckpt_dir \u001b[39m\u001b[39m{\u001b[39;00mckpt\u001b[39m}\u001b[39;00m\u001b[39m/ --tokenizer_path tokenizer.model --max_seq_len 512 --max_batch_size 6\u001b[39m\u001b[39m\"\u001b[39m\n\u001b[0;32m---> <a href='vscode-notebook-cell:/Users/bramyeon/Desktop/StyleCLIP/llm_exp.ipynb#W4sZmlsZQ%3D%3D?line=11'>12</a>\u001b[0m result \u001b[39m=\u001b[39m subprocess\u001b[39m.\u001b[39;49mrun(cmd, shell\u001b[39m=\u001b[39;49m\u001b[39mTrue\u001b[39;49;00m, check\u001b[39m=\u001b[39;49m\u001b[39mTrue\u001b[39;49;00m, stdout\u001b[39m=\u001b[39;49msubprocess\u001b[39m.\u001b[39;49mPIPE, stderr\u001b[39m=\u001b[39;49msubprocess\u001b[39m.\u001b[39;49mPIPE, text\u001b[39m=\u001b[39;49m\u001b[39mTrue\u001b[39;49;00m)\n\u001b[1;32m     <a href='vscode-notebook-cell:/Users/bramyeon/Desktop/StyleCLIP/llm_exp.ipynb#W4sZmlsZQ%3D%3D?line=12'>13</a>\u001b[0m end \u001b[39m=\u001b[39m time\u001b[39m.\u001b[39mtime()\n\u001b[1;32m     <a href='vscode-notebook-cell:/Users/bramyeon/Desktop/StyleCLIP/llm_exp.ipynb#W4sZmlsZQ%3D%3D?line=13'>14</a>\u001b[0m exec \u001b[39m=\u001b[39m end\u001b[39m-\u001b[39mstart\n",
      "File \u001b[0;32m~/anaconda3/envs/StyleCLIP/lib/python3.11/subprocess.py:571\u001b[0m, in \u001b[0;36mrun\u001b[0;34m(input, capture_output, timeout, check, *popenargs, **kwargs)\u001b[0m\n\u001b[1;32m    569\u001b[0m     retcode \u001b[39m=\u001b[39m process\u001b[39m.\u001b[39mpoll()\n\u001b[1;32m    570\u001b[0m     \u001b[39mif\u001b[39;00m check \u001b[39mand\u001b[39;00m retcode:\n\u001b[0;32m--> 571\u001b[0m         \u001b[39mraise\u001b[39;00m CalledProcessError(retcode, process\u001b[39m.\u001b[39margs,\n\u001b[1;32m    572\u001b[0m                                  output\u001b[39m=\u001b[39mstdout, stderr\u001b[39m=\u001b[39mstderr)\n\u001b[1;32m    573\u001b[0m \u001b[39mreturn\u001b[39;00m CompletedProcess(process\u001b[39m.\u001b[39margs, retcode, stdout, stderr)\n",
      "\u001b[0;31mCalledProcessError\u001b[0m: Command 'torchrun --nproc_per_node 1 ../llama/example_text_completion.py --ckpt_dir ../llama/llama-2-7b/ --tokenizer_path tokenizer.model --max_seq_len 512 --max_batch_size 6' returned non-zero exit status 1."
     ]
    }
   ],
   "source": [
    "run('../llama/llama-2-7b', '../llama/example_text_completion.py')"
   ]
  }
 ],
 "metadata": {
  "kernelspec": {
   "display_name": "StyleCLIP",
   "language": "python",
   "name": "python3"
  },
  "language_info": {
   "codemirror_mode": {
    "name": "ipython",
    "version": 3
   },
   "file_extension": ".py",
   "mimetype": "text/x-python",
   "name": "python",
   "nbconvert_exporter": "python",
   "pygments_lexer": "ipython3",
   "version": "3.11.5"
  }
 },
 "nbformat": 4,
 "nbformat_minor": 2
}

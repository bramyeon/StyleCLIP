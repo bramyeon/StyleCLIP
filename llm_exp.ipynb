{
 "cells": [
  {
   "cell_type": "markdown",
   "metadata": {},
   "source": [
    "# Google"
   ]
  },
  {
   "cell_type": "code",
   "execution_count": 9,
   "metadata": {},
   "outputs": [
    {
     "name": "stderr",
     "output_type": "stream",
     "text": [
      "You are using the default legacy behaviour of the <class 'transformers.models.t5.tokenization_t5.T5Tokenizer'>. This is expected, and simply means that the `legacy` (previous) behavior will be used so nothing changes for you. If you want to use the new behaviour, set `legacy=False`. This should only be set if you understand what it means, and thouroughly read the reason why this was added as explained in https://github.com/huggingface/transformers/pull/24565\n",
      "Special tokens have been added in the vocabulary, make sure the associated word embeddings are fine-tuned or trained.\n"
     ]
    }
   ],
   "source": [
    "from transformers import T5Tokenizer, T5ForConditionalGeneration\n",
    "# install with pip: transformers, sentencepiece \n",
    "\n",
    "tokenizer = T5Tokenizer.from_pretrained(\"google/flan-t5-small\")\n",
    "model = T5ForConditionalGeneration.from_pretrained(\"google/flan-t5-small\")"
   ]
  },
  {
   "cell_type": "code",
   "execution_count": 14,
   "metadata": {},
   "outputs": [
    {
     "name": "stdout",
     "output_type": "stream",
     "text": [
      "<pad> 5 times</s>\n"
     ]
    }
   ],
   "source": [
    "input_text = \"repeat the sentence 5 times: How old are you?\"\n",
    "input_ids = tokenizer(input_text, return_tensors=\"pt\").input_ids\n",
    "\n",
    "outputs = model.generate(input_ids, max_length=100)\n",
    "print(tokenizer.decode(outputs[0]))"
   ]
  },
  {
   "cell_type": "code",
   "execution_count": 15,
   "metadata": {},
   "outputs": [
    {
     "data": {
      "text/plain": [
       "'<pad> 5 times</s>'"
      ]
     },
     "execution_count": 15,
     "metadata": {},
     "output_type": "execute_result"
    }
   ],
   "source": [
    "tokenizer.decode(outputs[0])"
   ]
  },
  {
   "cell_type": "markdown",
   "metadata": {},
   "source": [
    "# LLaMa 2, 7B"
   ]
  },
  {
   "cell_type": "code",
   "execution_count": 1,
   "metadata": {},
   "outputs": [],
   "source": [
    "import subprocess, time"
   ]
  },
  {
   "cell_type": "code",
   "execution_count": 4,
   "metadata": {},
   "outputs": [],
   "source": [
    "def run(ckpt, task):\n",
    "    \"\"\"\n",
    "    Runs a terminal command and prints the output followed by error message.\n",
    "    Args:\n",
    "        ckpt (str): Path to LLaMa model checkpoint\n",
    "        task (str): Path to Python task\n",
    "    Returns:\n",
    "        float: Command execution time\n",
    "    \"\"\"\n",
    "    start = time.time()\n",
    "    cmd = f\"torchrun --nproc_per_node 1 {task} --ckpt_dir {ckpt}/ --tokenizer_path tokenizer.model --max_seq_len 512 --max_batch_size 6\"\n",
    "    result = subprocess.run(cmd, shell=True, check=True, stdout=subprocess.PIPE, stderr=subprocess.PIPE, text=True)\n",
    "    end = time.time()\n",
    "    exec = end-start\n",
    "    print(f\"Output:\\n{result.stdout}\")\n",
    "    print(f\"Error:\\n{result.stderr}\")\n",
    "    print(f\"Execution time: {exec} seconds\")\n",
    "    return exec "
   ]
  },
  {
   "cell_type": "code",
   "execution_count": 5,
   "metadata": {},
   "outputs": [
    {
     "name": "stdout",
     "output_type": "stream",
     "text": [
      "Output:\n",
      "LICENSE\n",
      "README.md\n",
      "cog.yaml\n",
      "cog_predict.py\n",
      "\u001b[34mcriteria\u001b[m\u001b[m\n",
      "\u001b[34mglobal_directions\u001b[m\u001b[m\n",
      "\u001b[34mglobal_torch\u001b[m\u001b[m\n",
      "\u001b[34mimg\u001b[m\u001b[m\n",
      "\u001b[34mlicenses\u001b[m\u001b[m\n",
      "llm_exp.ipynb\n",
      "\u001b[34mmapper\u001b[m\u001b[m\n",
      "\u001b[34mmodels\u001b[m\u001b[m\n",
      "\u001b[34mnotebooks\u001b[m\u001b[m\n",
      "\u001b[34moptimization\u001b[m\u001b[m\n",
      "utils.py\n",
      "\n",
      "Error:\n",
      "\n",
      "Execution time: 0.012706756591796875 seconds\n"
     ]
    },
    {
     "data": {
      "text/plain": [
       "0.012706756591796875"
      ]
     },
     "execution_count": 5,
     "metadata": {},
     "output_type": "execute_result"
    }
   ],
   "source": [
    "run('../llama/llama-2-7b', '../llama/example_text_completion.py')"
   ]
  }
 ],
 "metadata": {
  "kernelspec": {
   "display_name": "StyleCLIP",
   "language": "python",
   "name": "python3"
  },
  "language_info": {
   "codemirror_mode": {
    "name": "ipython",
    "version": 3
   },
   "file_extension": ".py",
   "mimetype": "text/x-python",
   "name": "python",
   "nbconvert_exporter": "python",
   "pygments_lexer": "ipython3",
   "version": "3.11.5"
  }
 },
 "nbformat": 4,
 "nbformat_minor": 2
}
